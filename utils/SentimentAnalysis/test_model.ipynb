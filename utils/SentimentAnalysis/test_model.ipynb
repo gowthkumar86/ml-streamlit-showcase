{
 "cells": [
  {
   "cell_type": "code",
   "execution_count": 1,
   "id": "75c41b8f",
   "metadata": {},
   "outputs": [],
   "source": [
    "import os\n",
    "import joblib"
   ]
  },
  {
   "cell_type": "code",
   "execution_count": 2,
   "id": "0c2da572",
   "metadata": {},
   "outputs": [],
   "source": [
    "root_dir = r\"F:\\PROJECT\\ml-streamlit-showcase\"\n",
    "model_path = os.path.join(root_dir , \"models\\sentiment_predictor.pkl\")"
   ]
  },
  {
   "cell_type": "code",
   "execution_count": 3,
   "id": "2ac0f39e",
   "metadata": {},
   "outputs": [],
   "source": [
    "# load the model\n",
    "with open(model_path, \"rb\") as f:\n",
    "    loaded_model = joblib.load(f)"
   ]
  },
  {
   "cell_type": "code",
   "execution_count": 4,
   "id": "f8f370b1",
   "metadata": {},
   "outputs": [
    {
     "name": "stdout",
     "output_type": "stream",
     "text": [
      "Predicted Sentiment: positive\n",
      "Probabilities:\n",
      "negative:18.76%\n",
      "neutral:5.17%\n",
      "positive:76.07%\n"
     ]
    }
   ],
   "source": [
    "\n",
    "# Test input\n",
    "Review_text = [\" good in performance, but not good in appearance.\"]\n",
    "\n",
    "# Make prediction\n",
    "prediction = loaded_model.predict(Review_text)\n",
    "probabilities = loaded_model.predict_proba(Review_text)[0]\n",
    "classes = loaded_model.classes_\n",
    "\n",
    "# Display results\n",
    "print(f\"Predicted Sentiment: {prediction[0]}\")\n",
    "print(\"Probabilities:\")\n",
    "for sentiment, prob in zip(classes, probabilities):\n",
    "    print(f\"{sentiment}:{prob*100:.2f}%\")"
   ]
  },
  {
   "cell_type": "code",
   "execution_count": null,
   "id": "60fec896",
   "metadata": {},
   "outputs": [],
   "source": []
  }
 ],
 "metadata": {
  "kernelspec": {
   "display_name": "llm-ai",
   "language": "python",
   "name": "python3"
  },
  "language_info": {
   "codemirror_mode": {
    "name": "ipython",
    "version": 3
   },
   "file_extension": ".py",
   "mimetype": "text/x-python",
   "name": "python",
   "nbconvert_exporter": "python",
   "pygments_lexer": "ipython3",
   "version": "3.10.17"
  }
 },
 "nbformat": 4,
 "nbformat_minor": 5
}
