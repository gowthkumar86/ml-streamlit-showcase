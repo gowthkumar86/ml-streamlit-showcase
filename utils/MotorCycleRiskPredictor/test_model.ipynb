{
 "cells": [
  {
   "cell_type": "code",
   "execution_count": 24,
   "id": "021f9101",
   "metadata": {},
   "outputs": [],
   "source": [
    "import numpy as np\n",
    "from sklearn.preprocessing import OneHotEncoder\n",
    "from sklearn.compose import ColumnTransformer\n",
    "from sklearn.preprocessing import StandardScaler\n",
    "from xgboost import XGBRegressor\n",
    "import pickle\n",
    "import os\n",
    "from sklearn.pipeline import Pipeline\n",
    "import pandas as pd"
   ]
  },
  {
   "cell_type": "code",
   "execution_count": 25,
   "id": "6f895795",
   "metadata": {},
   "outputs": [],
   "source": [
    "root_dir = r\"F:\\PROJECT\\ml-streamlit-showcase\"\n",
    "model_path = os.path.join(root_dir , \"models\\motorcycle-risk-predictor.pkl\")"
   ]
  },
  {
   "cell_type": "code",
   "execution_count": 26,
   "id": "24027efd",
   "metadata": {},
   "outputs": [],
   "source": [
    "# load the model\n",
    "with open(model_path, \"rb\") as f:\n",
    "    loaded_model = pickle.load(f)"
   ]
  },
  {
   "cell_type": "code",
   "execution_count": 33,
   "id": "aa602a2c",
   "metadata": {},
   "outputs": [
    {
     "name": "stdout",
     "output_type": "stream",
     "text": [
      "Predicted risk score: 0.29877335\n"
     ]
    }
   ],
   "source": [
    "# Input test data\n",
    "input_dict = {\n",
    "    'rider_age': [26],\n",
    "    'rider_experience_years': [8],\n",
    "    'speed': [200.0],\n",
    "    'helmet_used': [1],\n",
    "    'alcohol_detected': [0],\n",
    "    'recent_violations_count': [0],\n",
    "    'road_surface': ['Gravel'],\n",
    "    'light_condition': ['Dusk'],\n",
    "    'brake_condition': [0.9],\n",
    "    'weather_condition': ['Clear'],\n",
    "    'road_type': ['Highway']\n",
    "}\n",
    "\n",
    "input_df = pd.DataFrame(input_dict)\n",
    "\n",
    "# Make prediction\n",
    "prediction = loaded_model.predict(input_df)\n",
    "print(\"Predicted risk score:\", prediction[0])"
   ]
  }
 ],
 "metadata": {
  "kernelspec": {
   "display_name": "llm-ai",
   "language": "python",
   "name": "python3"
  },
  "language_info": {
   "codemirror_mode": {
    "name": "ipython",
    "version": 3
   },
   "file_extension": ".py",
   "mimetype": "text/x-python",
   "name": "python",
   "nbconvert_exporter": "python",
   "pygments_lexer": "ipython3",
   "version": "3.10.17"
  }
 },
 "nbformat": 4,
 "nbformat_minor": 5
}
